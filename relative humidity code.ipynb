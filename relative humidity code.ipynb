{
 "cells": [
  {
   "cell_type": "markdown",
   "id": "08a31195",
   "metadata": {},
   "source": [
    "# IMPORT LIBRARIES"
   ]
  },
  {
   "cell_type": "code",
   "execution_count": 6,
   "id": "4e168219",
   "metadata": {},
   "outputs": [],
   "source": [
    "import pandas as pd\n",
    "import seaborn as sns\n",
    "import matplotlib.pyplot as plt\n",
    "import matplotlib.cm as cm\n",
    "from sklearn.linear_model import LogisticRegression\n",
    "from sklearn.model_selection import train_test_split\n",
    "from sklearn.metrics import classification_report, accuracy_score\n",
    "from sklearn.metrics import accuracy_score\n",
    "from sklearn.linear_model import LogisticRegression\n",
    "from sklearn.model_selection import GridSearchCV\n",
    "from sklearn.metrics import classification_report\n",
    "from sklearn import svm\n",
    "from sklearn.preprocessing import StandardScaler\n",
    "from sklearn.decomposition import PCA\n",
    "import numpy as np\n",
    "from sklearn.model_selection import GridSearchCV, cross_val_score\n",
    "from sklearn.model_selection import GridSearchCV, KFold, cross_val_score\n",
    "from sklearn.model_selection import cross_val_score\n",
    "from sklearn.svm import SVC\n",
    "from sklearn.metrics import confusion_matrix\n",
    "from sklearn.metrics import classification_report,confusion_matrix\n",
    "from sklearn.linear_model import LinearRegression\n",
    "from sklearn.tree import DecisionTreeRegressor\n",
    "from sklearn.svm import SVR\n",
    "from sklearn.metrics import mean_squared_error, r2_score\n",
    "from sklearn.decomposition import PCA\n",
    "import pandas as pd\n",
    "from sklearn.ensemble import RandomForestRegressor\n",
    "from sklearn.metrics import mean_squared_error"
   ]
  },
  {
   "cell_type": "code",
   "execution_count": 7,
   "id": "6bc8798c",
   "metadata": {},
   "outputs": [],
   "source": [
    "nrows=20000"
   ]
  },
  {
   "cell_type": "markdown",
   "id": "34fe48e0",
   "metadata": {},
   "source": [
    "# DATA UPLOADING"
   ]
  },
  {
   "cell_type": "code",
   "execution_count": 9,
   "id": "9429d767",
   "metadata": {},
   "outputs": [],
   "source": [
    "df = pd.read_csv(\"E:\\\\python course\\\\relative humidity predictor\\\\relative-humidity-data.csv\",nrows=nrows)"
   ]
  },
  {
   "cell_type": "markdown",
   "id": "d7cc8a0e",
   "metadata": {},
   "source": [
    "# DATA PREPROCESSING"
   ]
  },
  {
   "cell_type": "code",
   "execution_count": 10,
   "id": "825e1f15",
   "metadata": {},
   "outputs": [],
   "source": [
    "df = df.drop('Date', axis=1)"
   ]
  },
  {
   "cell_type": "code",
   "execution_count": 11,
   "id": "afc7a813",
   "metadata": {},
   "outputs": [
    {
     "data": {
      "text/html": [
       "<div>\n",
       "<style scoped>\n",
       "    .dataframe tbody tr th:only-of-type {\n",
       "        vertical-align: middle;\n",
       "    }\n",
       "\n",
       "    .dataframe tbody tr th {\n",
       "        vertical-align: top;\n",
       "    }\n",
       "\n",
       "    .dataframe thead th {\n",
       "        text-align: right;\n",
       "    }\n",
       "</style>\n",
       "<table border=\"1\" class=\"dataframe\">\n",
       "  <thead>\n",
       "    <tr style=\"text-align: right;\">\n",
       "      <th></th>\n",
       "      <th>Wind Speed(m/s)</th>\n",
       "      <th>Temperature©</th>\n",
       "      <th>Dew PointTemp C)</th>\n",
       "      <th>Wet Bulb Temp(C) Temperature</th>\n",
       "      <th>Max  Temperature(C)</th>\n",
       "      <th>Min Temperature ©</th>\n",
       "      <th>Precipitation(mm/day)</th>\n",
       "      <th>Pressure (kPa)</th>\n",
       "      <th>Relative Humidity (%)</th>\n",
       "    </tr>\n",
       "  </thead>\n",
       "  <tbody>\n",
       "    <tr>\n",
       "      <th>0</th>\n",
       "      <td>0.74</td>\n",
       "      <td>16.48</td>\n",
       "      <td>-8.07</td>\n",
       "      <td>4.20</td>\n",
       "      <td>25.15</td>\n",
       "      <td>7.82</td>\n",
       "      <td>0.00</td>\n",
       "      <td>99.23</td>\n",
       "      <td>18.56</td>\n",
       "    </tr>\n",
       "    <tr>\n",
       "      <th>1</th>\n",
       "      <td>0.79</td>\n",
       "      <td>17.42</td>\n",
       "      <td>-8.37</td>\n",
       "      <td>4.52</td>\n",
       "      <td>24.90</td>\n",
       "      <td>11.40</td>\n",
       "      <td>0.00</td>\n",
       "      <td>99.22</td>\n",
       "      <td>16.50</td>\n",
       "    </tr>\n",
       "    <tr>\n",
       "      <th>2</th>\n",
       "      <td>1.39</td>\n",
       "      <td>14.95</td>\n",
       "      <td>-9.02</td>\n",
       "      <td>2.97</td>\n",
       "      <td>24.69</td>\n",
       "      <td>8.79</td>\n",
       "      <td>0.00</td>\n",
       "      <td>99.07</td>\n",
       "      <td>18.62</td>\n",
       "    </tr>\n",
       "    <tr>\n",
       "      <th>3</th>\n",
       "      <td>1.51</td>\n",
       "      <td>14.46</td>\n",
       "      <td>-8.91</td>\n",
       "      <td>2.77</td>\n",
       "      <td>24.51</td>\n",
       "      <td>6.95</td>\n",
       "      <td>0.00</td>\n",
       "      <td>99.06</td>\n",
       "      <td>19.75</td>\n",
       "    </tr>\n",
       "    <tr>\n",
       "      <th>4</th>\n",
       "      <td>1.60</td>\n",
       "      <td>14.60</td>\n",
       "      <td>-8.56</td>\n",
       "      <td>3.02</td>\n",
       "      <td>24.58</td>\n",
       "      <td>7.50</td>\n",
       "      <td>0.00</td>\n",
       "      <td>99.17</td>\n",
       "      <td>20.00</td>\n",
       "    </tr>\n",
       "    <tr>\n",
       "      <th>...</th>\n",
       "      <td>...</td>\n",
       "      <td>...</td>\n",
       "      <td>...</td>\n",
       "      <td>...</td>\n",
       "      <td>...</td>\n",
       "      <td>...</td>\n",
       "      <td>...</td>\n",
       "      <td>...</td>\n",
       "      <td>...</td>\n",
       "    </tr>\n",
       "    <tr>\n",
       "      <th>8516</th>\n",
       "      <td>0.95</td>\n",
       "      <td>28.97</td>\n",
       "      <td>9.47</td>\n",
       "      <td>19.22</td>\n",
       "      <td>35.35</td>\n",
       "      <td>22.81</td>\n",
       "      <td>0.00</td>\n",
       "      <td>98.37</td>\n",
       "      <td>31.38</td>\n",
       "    </tr>\n",
       "    <tr>\n",
       "      <th>8517</th>\n",
       "      <td>1.40</td>\n",
       "      <td>30.94</td>\n",
       "      <td>9.59</td>\n",
       "      <td>20.26</td>\n",
       "      <td>39.10</td>\n",
       "      <td>23.40</td>\n",
       "      <td>0.00</td>\n",
       "      <td>98.29</td>\n",
       "      <td>29.06</td>\n",
       "    </tr>\n",
       "    <tr>\n",
       "      <th>8518</th>\n",
       "      <td>1.32</td>\n",
       "      <td>30.00</td>\n",
       "      <td>12.87</td>\n",
       "      <td>21.44</td>\n",
       "      <td>37.01</td>\n",
       "      <td>22.67</td>\n",
       "      <td>0.01</td>\n",
       "      <td>98.41</td>\n",
       "      <td>38.00</td>\n",
       "    </tr>\n",
       "    <tr>\n",
       "      <th>8519</th>\n",
       "      <td>2.07</td>\n",
       "      <td>27.96</td>\n",
       "      <td>16.05</td>\n",
       "      <td>22.00</td>\n",
       "      <td>33.30</td>\n",
       "      <td>23.88</td>\n",
       "      <td>1.57</td>\n",
       "      <td>98.32</td>\n",
       "      <td>49.88</td>\n",
       "    </tr>\n",
       "    <tr>\n",
       "      <th>8520</th>\n",
       "      <td>1.84</td>\n",
       "      <td>26.41</td>\n",
       "      <td>16.36</td>\n",
       "      <td>21.38</td>\n",
       "      <td>31.16</td>\n",
       "      <td>22.64</td>\n",
       "      <td>2.53</td>\n",
       "      <td>98.29</td>\n",
       "      <td>56.38</td>\n",
       "    </tr>\n",
       "  </tbody>\n",
       "</table>\n",
       "<p>8521 rows × 9 columns</p>\n",
       "</div>"
      ],
      "text/plain": [
       "       Wind Speed(m/s)  Temperature©  Dew PointTemp C)  \\\n",
       "0                 0.74         16.48             -8.07   \n",
       "1                 0.79         17.42             -8.37   \n",
       "2                 1.39         14.95             -9.02   \n",
       "3                 1.51         14.46             -8.91   \n",
       "4                 1.60         14.60             -8.56   \n",
       "...                ...           ...               ...   \n",
       "8516              0.95         28.97              9.47   \n",
       "8517              1.40         30.94              9.59   \n",
       "8518              1.32         30.00             12.87   \n",
       "8519              2.07         27.96             16.05   \n",
       "8520              1.84         26.41             16.36   \n",
       "\n",
       "       Wet Bulb Temp(C) Temperature  Max  Temperature(C)   Min Temperature ©  \\\n",
       "0                              4.20                25.15                7.82   \n",
       "1                              4.52                24.90               11.40   \n",
       "2                              2.97                24.69                8.79   \n",
       "3                              2.77                24.51                6.95   \n",
       "4                              3.02                24.58                7.50   \n",
       "...                             ...                  ...                 ...   \n",
       "8516                          19.22                35.35               22.81   \n",
       "8517                          20.26                39.10               23.40   \n",
       "8518                          21.44                37.01               22.67   \n",
       "8519                          22.00                33.30               23.88   \n",
       "8520                          21.38                31.16               22.64   \n",
       "\n",
       "       Precipitation(mm/day)    Pressure (kPa)   Relative Humidity (%)  \n",
       "0                        0.00            99.23                   18.56  \n",
       "1                        0.00            99.22                   16.50  \n",
       "2                        0.00            99.07                   18.62  \n",
       "3                        0.00            99.06                   19.75  \n",
       "4                        0.00            99.17                   20.00  \n",
       "...                       ...              ...                     ...  \n",
       "8516                     0.00            98.37                   31.38  \n",
       "8517                     0.00            98.29                   29.06  \n",
       "8518                     0.01            98.41                   38.00  \n",
       "8519                     1.57            98.32                   49.88  \n",
       "8520                     2.53            98.29                   56.38  \n",
       "\n",
       "[8521 rows x 9 columns]"
      ]
     },
     "execution_count": 11,
     "metadata": {},
     "output_type": "execute_result"
    }
   ],
   "source": [
    "df.fillna(method='bfill', inplace=True)\n",
    "df"
   ]
  },
  {
   "cell_type": "code",
   "execution_count": 12,
   "id": "3a7534a3",
   "metadata": {},
   "outputs": [],
   "source": [
    "x=df.iloc[:,:-1]\n",
    "y = df.iloc[:,-1]"
   ]
  },
  {
   "cell_type": "code",
   "execution_count": 13,
   "id": "ca5175a3",
   "metadata": {},
   "outputs": [
    {
     "data": {
      "text/html": [
       "<div>\n",
       "<style scoped>\n",
       "    .dataframe tbody tr th:only-of-type {\n",
       "        vertical-align: middle;\n",
       "    }\n",
       "\n",
       "    .dataframe tbody tr th {\n",
       "        vertical-align: top;\n",
       "    }\n",
       "\n",
       "    .dataframe thead th {\n",
       "        text-align: right;\n",
       "    }\n",
       "</style>\n",
       "<table border=\"1\" class=\"dataframe\">\n",
       "  <thead>\n",
       "    <tr style=\"text-align: right;\">\n",
       "      <th></th>\n",
       "      <th>Wind Speed(m/s)</th>\n",
       "      <th>Temperature©</th>\n",
       "      <th>Dew PointTemp C)</th>\n",
       "      <th>Wet Bulb Temp(C) Temperature</th>\n",
       "      <th>Max  Temperature(C)</th>\n",
       "      <th>Min Temperature ©</th>\n",
       "      <th>Precipitation(mm/day)</th>\n",
       "      <th>Pressure (kPa)</th>\n",
       "    </tr>\n",
       "  </thead>\n",
       "  <tbody>\n",
       "    <tr>\n",
       "      <th>0</th>\n",
       "      <td>0.74</td>\n",
       "      <td>16.48</td>\n",
       "      <td>-8.07</td>\n",
       "      <td>4.20</td>\n",
       "      <td>25.15</td>\n",
       "      <td>7.82</td>\n",
       "      <td>0.00</td>\n",
       "      <td>99.23</td>\n",
       "    </tr>\n",
       "    <tr>\n",
       "      <th>1</th>\n",
       "      <td>0.79</td>\n",
       "      <td>17.42</td>\n",
       "      <td>-8.37</td>\n",
       "      <td>4.52</td>\n",
       "      <td>24.90</td>\n",
       "      <td>11.40</td>\n",
       "      <td>0.00</td>\n",
       "      <td>99.22</td>\n",
       "    </tr>\n",
       "    <tr>\n",
       "      <th>2</th>\n",
       "      <td>1.39</td>\n",
       "      <td>14.95</td>\n",
       "      <td>-9.02</td>\n",
       "      <td>2.97</td>\n",
       "      <td>24.69</td>\n",
       "      <td>8.79</td>\n",
       "      <td>0.00</td>\n",
       "      <td>99.07</td>\n",
       "    </tr>\n",
       "    <tr>\n",
       "      <th>3</th>\n",
       "      <td>1.51</td>\n",
       "      <td>14.46</td>\n",
       "      <td>-8.91</td>\n",
       "      <td>2.77</td>\n",
       "      <td>24.51</td>\n",
       "      <td>6.95</td>\n",
       "      <td>0.00</td>\n",
       "      <td>99.06</td>\n",
       "    </tr>\n",
       "    <tr>\n",
       "      <th>4</th>\n",
       "      <td>1.60</td>\n",
       "      <td>14.60</td>\n",
       "      <td>-8.56</td>\n",
       "      <td>3.02</td>\n",
       "      <td>24.58</td>\n",
       "      <td>7.50</td>\n",
       "      <td>0.00</td>\n",
       "      <td>99.17</td>\n",
       "    </tr>\n",
       "    <tr>\n",
       "      <th>...</th>\n",
       "      <td>...</td>\n",
       "      <td>...</td>\n",
       "      <td>...</td>\n",
       "      <td>...</td>\n",
       "      <td>...</td>\n",
       "      <td>...</td>\n",
       "      <td>...</td>\n",
       "      <td>...</td>\n",
       "    </tr>\n",
       "    <tr>\n",
       "      <th>8516</th>\n",
       "      <td>0.95</td>\n",
       "      <td>28.97</td>\n",
       "      <td>9.47</td>\n",
       "      <td>19.22</td>\n",
       "      <td>35.35</td>\n",
       "      <td>22.81</td>\n",
       "      <td>0.00</td>\n",
       "      <td>98.37</td>\n",
       "    </tr>\n",
       "    <tr>\n",
       "      <th>8517</th>\n",
       "      <td>1.40</td>\n",
       "      <td>30.94</td>\n",
       "      <td>9.59</td>\n",
       "      <td>20.26</td>\n",
       "      <td>39.10</td>\n",
       "      <td>23.40</td>\n",
       "      <td>0.00</td>\n",
       "      <td>98.29</td>\n",
       "    </tr>\n",
       "    <tr>\n",
       "      <th>8518</th>\n",
       "      <td>1.32</td>\n",
       "      <td>30.00</td>\n",
       "      <td>12.87</td>\n",
       "      <td>21.44</td>\n",
       "      <td>37.01</td>\n",
       "      <td>22.67</td>\n",
       "      <td>0.01</td>\n",
       "      <td>98.41</td>\n",
       "    </tr>\n",
       "    <tr>\n",
       "      <th>8519</th>\n",
       "      <td>2.07</td>\n",
       "      <td>27.96</td>\n",
       "      <td>16.05</td>\n",
       "      <td>22.00</td>\n",
       "      <td>33.30</td>\n",
       "      <td>23.88</td>\n",
       "      <td>1.57</td>\n",
       "      <td>98.32</td>\n",
       "    </tr>\n",
       "    <tr>\n",
       "      <th>8520</th>\n",
       "      <td>1.84</td>\n",
       "      <td>26.41</td>\n",
       "      <td>16.36</td>\n",
       "      <td>21.38</td>\n",
       "      <td>31.16</td>\n",
       "      <td>22.64</td>\n",
       "      <td>2.53</td>\n",
       "      <td>98.29</td>\n",
       "    </tr>\n",
       "  </tbody>\n",
       "</table>\n",
       "<p>8521 rows × 8 columns</p>\n",
       "</div>"
      ],
      "text/plain": [
       "       Wind Speed(m/s)  Temperature©  Dew PointTemp C)  \\\n",
       "0                 0.74         16.48             -8.07   \n",
       "1                 0.79         17.42             -8.37   \n",
       "2                 1.39         14.95             -9.02   \n",
       "3                 1.51         14.46             -8.91   \n",
       "4                 1.60         14.60             -8.56   \n",
       "...                ...           ...               ...   \n",
       "8516              0.95         28.97              9.47   \n",
       "8517              1.40         30.94              9.59   \n",
       "8518              1.32         30.00             12.87   \n",
       "8519              2.07         27.96             16.05   \n",
       "8520              1.84         26.41             16.36   \n",
       "\n",
       "       Wet Bulb Temp(C) Temperature  Max  Temperature(C)   Min Temperature ©  \\\n",
       "0                              4.20                25.15                7.82   \n",
       "1                              4.52                24.90               11.40   \n",
       "2                              2.97                24.69                8.79   \n",
       "3                              2.77                24.51                6.95   \n",
       "4                              3.02                24.58                7.50   \n",
       "...                             ...                  ...                 ...   \n",
       "8516                          19.22                35.35               22.81   \n",
       "8517                          20.26                39.10               23.40   \n",
       "8518                          21.44                37.01               22.67   \n",
       "8519                          22.00                33.30               23.88   \n",
       "8520                          21.38                31.16               22.64   \n",
       "\n",
       "       Precipitation(mm/day)    Pressure (kPa)  \n",
       "0                        0.00            99.23  \n",
       "1                        0.00            99.22  \n",
       "2                        0.00            99.07  \n",
       "3                        0.00            99.06  \n",
       "4                        0.00            99.17  \n",
       "...                       ...              ...  \n",
       "8516                     0.00            98.37  \n",
       "8517                     0.00            98.29  \n",
       "8518                     0.01            98.41  \n",
       "8519                     1.57            98.32  \n",
       "8520                     2.53            98.29  \n",
       "\n",
       "[8521 rows x 8 columns]"
      ]
     },
     "execution_count": 13,
     "metadata": {},
     "output_type": "execute_result"
    }
   ],
   "source": [
    "x"
   ]
  },
  {
   "cell_type": "code",
   "execution_count": 14,
   "id": "e54ed2e2",
   "metadata": {},
   "outputs": [
    {
     "data": {
      "text/plain": [
       " Wind Speed(m/s)                 0\n",
       "Temperature©                     0\n",
       "Dew PointTemp C)                 0\n",
       " Wet Bulb Temp(C) Temperature    0\n",
       "Max  Temperature(C)              0\n",
       " Min Temperature ©               0\n",
       " Precipitation(mm/day)           0\n",
       " Pressure (kPa)                  0\n",
       "dtype: int64"
      ]
     },
     "execution_count": 14,
     "metadata": {},
     "output_type": "execute_result"
    }
   ],
   "source": [
    "x.isnull().sum()"
   ]
  },
  {
   "cell_type": "code",
   "execution_count": 15,
   "id": "3b684808",
   "metadata": {},
   "outputs": [
    {
     "data": {
      "text/plain": [
       "0"
      ]
     },
     "execution_count": 15,
     "metadata": {},
     "output_type": "execute_result"
    }
   ],
   "source": [
    "y.isnull().sum()"
   ]
  },
  {
   "cell_type": "code",
   "execution_count": 16,
   "id": "86722a35",
   "metadata": {},
   "outputs": [
    {
     "name": "stdout",
     "output_type": "stream",
     "text": [
      "(8521,)\n",
      "(8521, 8)\n"
     ]
    }
   ],
   "source": [
    "print(y.shape)\n",
    "print(x.shape)"
   ]
  },
  {
   "cell_type": "code",
   "execution_count": 17,
   "id": "2ee6c086",
   "metadata": {},
   "outputs": [],
   "source": [
    "y = y.astype(str)\n",
    "x = x.astype(str)"
   ]
  },
  {
   "cell_type": "markdown",
   "id": "a67ea50e",
   "metadata": {},
   "source": [
    "# DATA VISULAIZATION"
   ]
  },
  {
   "cell_type": "code",
   "execution_count": 18,
   "id": "dd90fba2",
   "metadata": {},
   "outputs": [
    {
     "data": {
      "image/png": "[encoded data removed]",
      "text/plain": [
       "<Figure size 1400x1400 with 2 Axes>"
      ]
     },
     "metadata": {},
     "output_type": "display_data"
    }
   ],
   "source": [
    "corr_matrix = df.corr(numeric_only=True)\n",
    "# plot the correlation matrix using seaborn\n",
    "plt.figure(figsize=(14,14))\n",
    "sns.heatmap(corr_matrix, annot=True, cmap='coolwarm')\n",
    "# show the plot\n",
    "plt.show()"
   ]
  },
  {
   "cell_type": "markdown",
   "id": "adef6b72",
   "metadata": {},
   "source": [
    "# DATA SPLITING"
   ]
  },
  {
   "cell_type": "code",
   "execution_count": 19,
   "id": "fa49522b",
   "metadata": {},
   "outputs": [],
   "source": [
    "xtrain, xtest, ytrain, ytest = train_test_split(x, y, test_size = 0.25, random_state = 42)"
   ]
  },
  {
   "cell_type": "markdown",
   "id": "addba1c1",
   "metadata": {},
   "source": [
    "# FEATURE ENGINEERING"
   ]
  },
  {
   "cell_type": "code",
   "execution_count": 20,
   "id": "18bf54df",
   "metadata": {},
   "outputs": [
    {
     "data": {
      "text/html": [
       "<div>\n",
       "<style scoped>\n",
       "    .dataframe tbody tr th:only-of-type {\n",
       "        vertical-align: middle;\n",
       "    }\n",
       "\n",
       "    .dataframe tbody tr th {\n",
       "        vertical-align: top;\n",
       "    }\n",
       "\n",
       "    .dataframe thead th {\n",
       "        text-align: right;\n",
       "    }\n",
       "</style>\n",
       "<table border=\"1\" class=\"dataframe\">\n",
       "  <thead>\n",
       "    <tr style=\"text-align: right;\">\n",
       "      <th></th>\n",
       "      <th>Wind Speed(m/s)</th>\n",
       "      <th>Temperature©</th>\n",
       "      <th>Dew PointTemp C)</th>\n",
       "      <th>Wet Bulb Temp(C) Temperature</th>\n",
       "      <th>Max  Temperature(C)</th>\n",
       "      <th>Min Temperature ©</th>\n",
       "      <th>Precipitation(mm/day)</th>\n",
       "      <th>Pressure (kPa)</th>\n",
       "    </tr>\n",
       "  </thead>\n",
       "  <tbody>\n",
       "    <tr>\n",
       "      <th>0</th>\n",
       "      <td>-1.473226</td>\n",
       "      <td>-1.165072</td>\n",
       "      <td>-1.883602</td>\n",
       "      <td>-1.773590</td>\n",
       "      <td>-1.088105</td>\n",
       "      <td>-1.385468</td>\n",
       "      <td>-0.325521</td>\n",
       "      <td>1.216692</td>\n",
       "    </tr>\n",
       "    <tr>\n",
       "      <th>1</th>\n",
       "      <td>-1.410477</td>\n",
       "      <td>-1.043862</td>\n",
       "      <td>-1.914087</td>\n",
       "      <td>-1.732436</td>\n",
       "      <td>-1.123184</td>\n",
       "      <td>-0.945064</td>\n",
       "      <td>-0.325521</td>\n",
       "      <td>1.202238</td>\n",
       "    </tr>\n",
       "    <tr>\n",
       "      <th>2</th>\n",
       "      <td>-0.657491</td>\n",
       "      <td>-1.362362</td>\n",
       "      <td>-1.980138</td>\n",
       "      <td>-1.931777</td>\n",
       "      <td>-1.152650</td>\n",
       "      <td>-1.266140</td>\n",
       "      <td>-0.325521</td>\n",
       "      <td>0.985434</td>\n",
       "    </tr>\n",
       "    <tr>\n",
       "      <th>3</th>\n",
       "      <td>-0.506894</td>\n",
       "      <td>-1.425547</td>\n",
       "      <td>-1.968960</td>\n",
       "      <td>-1.957499</td>\n",
       "      <td>-1.177907</td>\n",
       "      <td>-1.492493</td>\n",
       "      <td>-0.325521</td>\n",
       "      <td>0.970981</td>\n",
       "    </tr>\n",
       "    <tr>\n",
       "      <th>4</th>\n",
       "      <td>-0.393946</td>\n",
       "      <td>-1.407494</td>\n",
       "      <td>-1.933394</td>\n",
       "      <td>-1.925347</td>\n",
       "      <td>-1.168085</td>\n",
       "      <td>-1.424833</td>\n",
       "      <td>-0.325521</td>\n",
       "      <td>1.129970</td>\n",
       "    </tr>\n",
       "  </tbody>\n",
       "</table>\n",
       "</div>"
      ],
      "text/plain": [
       "    Wind Speed(m/s)  Temperature©  Dew PointTemp C)  \\\n",
       "0         -1.473226     -1.165072         -1.883602   \n",
       "1         -1.410477     -1.043862         -1.914087   \n",
       "2         -0.657491     -1.362362         -1.980138   \n",
       "3         -0.506894     -1.425547         -1.968960   \n",
       "4         -0.393946     -1.407494         -1.933394   \n",
       "\n",
       "    Wet Bulb Temp(C) Temperature  Max  Temperature(C)   Min Temperature ©  \\\n",
       "0                      -1.773590            -1.088105           -1.385468   \n",
       "1                      -1.732436            -1.123184           -0.945064   \n",
       "2                      -1.931777            -1.152650           -1.266140   \n",
       "3                      -1.957499            -1.177907           -1.492493   \n",
       "4                      -1.925347            -1.168085           -1.424833   \n",
       "\n",
       "    Precipitation(mm/day)    Pressure (kPa)  \n",
       "0                -0.325521         1.216692  \n",
       "1                -0.325521         1.202238  \n",
       "2                -0.325521         0.985434  \n",
       "3                -0.325521         0.970981  \n",
       "4                -0.325521         1.129970  "
      ]
     },
     "execution_count": 20,
     "metadata": {},
     "output_type": "execute_result"
    }
   ],
   "source": [
    "from sklearn.preprocessing import StandardScaler\n",
    "scaler = StandardScaler()\n",
    "scaler.fit(x)\n",
    "scaled_data = scaler.transform(x)\n",
    "df_scaled = pd.DataFrame(scaled_data, columns=x.columns)\n",
    "df_scaled.head()"
   ]
  },
  {
   "cell_type": "code",
   "execution_count": 21,
   "id": "4722d6a0",
   "metadata": {},
   "outputs": [
    {
     "name": "stdout",
     "output_type": "stream",
     "text": [
      "<class 'pandas.core.frame.DataFrame'>\n",
      "RangeIndex: 8521 entries, 0 to 8520\n",
      "Data columns (total 8 columns):\n",
      " #   Column                         Non-Null Count  Dtype  \n",
      "---  ------                         --------------  -----  \n",
      " 0    Wind Speed(m/s)               8521 non-null   float64\n",
      " 1   Temperature©                   8521 non-null   float64\n",
      " 2   Dew PointTemp C)               8521 non-null   float64\n",
      " 3    Wet Bulb Temp(C) Temperature  8521 non-null   float64\n",
      " 4   Max  Temperature(C)            8521 non-null   float64\n",
      " 5    Min Temperature ©             8521 non-null   float64\n",
      " 6    Precipitation(mm/day)         8521 non-null   float64\n",
      " 7    Pressure (kPa)                8521 non-null   float64\n",
      "dtypes: float64(8)\n",
      "memory usage: 532.7 KB\n"
     ]
    }
   ],
   "source": [
    "df_scaled.info()"
   ]
  },
  {
   "cell_type": "markdown",
   "id": "5b6c40ed",
   "metadata": {},
   "source": [
    "## PCA"
   ]
  },
  {
   "cell_type": "code",
   "execution_count": 22,
   "id": "96372113",
   "metadata": {},
   "outputs": [],
   "source": [
    "from sklearn.decomposition import PCA"
   ]
  },
  {
   "cell_type": "code",
   "execution_count": 23,
   "id": "c0239592",
   "metadata": {},
   "outputs": [],
   "source": [
    "pca = PCA(n_components=4)"
   ]
  },
  {
   "cell_type": "code",
   "execution_count": 24,
   "id": "0482f48b",
   "metadata": {},
   "outputs": [
    {
     "data": {
      "text/html": [
       "<style>#sk-container-id-1 {color: black;}#sk-container-id-1 pre{padding: 0;}#sk-container-id-1 div.sk-toggleable {background-color: white;}#sk-container-id-1 label.sk-toggleable__label {cursor: pointer;display: block;width: 100%;margin-bottom: 0;padding: 0.3em;box-sizing: border-box;text-align: center;}#sk-container-id-1 label.sk-toggleable__label-arrow:before {content: \"▸\";float: left;margin-right: 0.25em;color: #696969;}#sk-container-id-1 label.sk-toggleable__label-arrow:hover:before {color: black;}#sk-container-id-1 div.sk-estimator:hover label.sk-toggleable__label-arrow:before {color: black;}#sk-container-id-1 div.sk-toggleable__content {max-height: 0;max-width: 0;overflow: hidden;text-align: left;background-color: #f0f8ff;}#sk-container-id-1 div.sk-toggleable__content pre {margin: 0.2em;color: black;border-radius: 0.25em;background-color: #f0f8ff;}#sk-container-id-1 input.sk-toggleable__control:checked~div.sk-toggleable__content {max-height: 200px;max-width: 100%;overflow: auto;}#sk-container-id-1 input.sk-toggleable__control:checked~label.sk-toggleable__label-arrow:before {content: \"▾\";}#sk-container-id-1 div.sk-estimator input.sk-toggleable__control:checked~label.sk-toggleable__label {background-color: #d4ebff;}#sk-container-id-1 div.sk-label input.sk-toggleable__control:checked~label.sk-toggleable__label {background-color: #d4ebff;}#sk-container-id-1 input.sk-hidden--visually {border: 0;clip: rect(1px 1px 1px 1px);clip: rect(1px, 1px, 1px, 1px);height: 1px;margin: -1px;overflow: hidden;padding: 0;position: absolute;width: 1px;}#sk-container-id-1 div.sk-estimator {font-family: monospace;background-color: #f0f8ff;border: 1px dotted black;border-radius: 0.25em;box-sizing: border-box;margin-bottom: 0.5em;}#sk-container-id-1 div.sk-estimator:hover {background-color: #d4ebff;}#sk-container-id-1 div.sk-parallel-item::after {content: \"\";width: 100%;border-bottom: 1px solid gray;flex-grow: 1;}#sk-container-id-1 div.sk-label:hover label.sk-toggleable__label {background-color: #d4ebff;}#sk-container-id-1 div.sk-serial::before {content: \"\";position: absolute;border-left: 1px solid gray;box-sizing: border-box;top: 0;bottom: 0;left: 50%;z-index: 0;}#sk-container-id-1 div.sk-serial {display: flex;flex-direction: column;align-items: center;background-color: white;padding-right: 0.2em;padding-left: 0.2em;position: relative;}#sk-container-id-1 div.sk-item {position: relative;z-index: 1;}#sk-container-id-1 div.sk-parallel {display: flex;align-items: stretch;justify-content: center;background-color: white;position: relative;}#sk-container-id-1 div.sk-item::before, #sk-container-id-1 div.sk-parallel-item::before {content: \"\";position: absolute;border-left: 1px solid gray;box-sizing: border-box;top: 0;bottom: 0;left: 50%;z-index: -1;}#sk-container-id-1 div.sk-parallel-item {display: flex;flex-direction: column;z-index: 1;position: relative;background-color: white;}#sk-container-id-1 div.sk-parallel-item:first-child::after {align-self: flex-end;width: 50%;}#sk-container-id-1 div.sk-parallel-item:last-child::after {align-self: flex-start;width: 50%;}#sk-container-id-1 div.sk-parallel-item:only-child::after {width: 0;}#sk-container-id-1 div.sk-dashed-wrapped {border: 1px dashed gray;margin: 0 0.4em 0.5em 0.4em;box-sizing: border-box;padding-bottom: 0.4em;background-color: white;}#sk-container-id-1 div.sk-label label {font-family: monospace;font-weight: bold;display: inline-block;line-height: 1.2em;}#sk-container-id-1 div.sk-label-container {text-align: center;}#sk-container-id-1 div.sk-container {/* jupyter's `normalize.less` sets `[hidden] { display: none; }` but bootstrap.min.css set `[hidden] { display: none !important; }` so we also need the `!important` here to be able to override the default hidden behavior on the sphinx rendered scikit-learn.org. See: https://github.com/scikit-learn/scikit-learn/issues/21755 */display: inline-block !important;position: relative;}#sk-container-id-1 div.sk-text-repr-fallback {display: none;}</style><div id=\"sk-container-id-1\" class=\"sk-top-container\"><div class=\"sk-text-repr-fallback\"><pre>PCA(n_components=4)</pre><b>In a Jupyter environment, please rerun this cell to show the HTML representation or trust the notebook. <br />On GitHub, the HTML representation is unable to render, please try loading this page with nbviewer.org.</b></div><div class=\"sk-container\" hidden><div class=\"sk-item\"><div class=\"sk-estimator sk-toggleable\"><input class=\"sk-toggleable__control sk-hidden--visually\" id=\"sk-estimator-id-1\" type=\"checkbox\" checked><label for=\"sk-estimator-id-1\" class=\"sk-toggleable__label sk-toggleable__label-arrow\">PCA</label><div class=\"sk-toggleable__content\"><pre>PCA(n_components=4)</pre></div></div></div></div></div>"
      ],
      "text/plain": [
       "PCA(n_components=4)"
      ]
     },
     "execution_count": 24,
     "metadata": {},
     "output_type": "execute_result"
    }
   ],
   "source": [
    "pca.fit(scaled_data)"
   ]
  },
  {
   "cell_type": "code",
   "execution_count": 25,
   "id": "9919c1e5",
   "metadata": {},
   "outputs": [
    {
     "name": "stdout",
     "output_type": "stream",
     "text": [
      "[64.04323517 16.54979232 11.37500959  6.08080383]\n"
     ]
    }
   ],
   "source": [
    "principal_components = pca.transform(scaled_data)\n",
    "percent_variation = pca.explained_variance_ratio_* 100\n",
    "print(percent_variation)"
   ]
  },
  {
   "cell_type": "code",
   "execution_count": 26,
   "id": "4959d783",
   "metadata": {},
   "outputs": [
    {
     "name": "stdout",
     "output_type": "stream",
     "text": [
      "98.0488408995486\n"
     ]
    }
   ],
   "source": [
    "total_var = pca.explained_variance_ratio_.sum() * 100\n",
    "print(total_var)"
   ]
  },
  {
   "cell_type": "code",
   "execution_count": 27,
   "id": "4555891d",
   "metadata": {},
   "outputs": [
    {
     "data": {
      "image/png": "[encoded data removed]",
      "text/plain": [
       "<Figure size 1000x500 with 1 Axes>"
      ]
     },
     "metadata": {},
     "output_type": "display_data"
    }
   ],
   "source": [
    "fig = plt.figure(figsize = (10, 5))\n",
    "plt.bar(np.array(['PC1', 'PC2', 'PC3', 'PC4']), np.array(pca.explained_variance_ratio_))\n",
    "plt.xlabel('Principal Component')\n",
    "plt.ylabel('Explained Variance Ratio')\n",
    "plt.xticks([0, 1, 2, 3])\n",
    "plt.show()"
   ]
  },
  {
   "cell_type": "code",
   "execution_count": 28,
   "id": "4d458c82",
   "metadata": {},
   "outputs": [],
   "source": [
    "xtrain_pca = pca.fit_transform(xtrain)\n",
    "xtest_pca = pca.transform(xtest)"
   ]
  },
  {
   "cell_type": "markdown",
   "id": "8ea2fe79",
   "metadata": {},
   "source": [
    "# CLASSIFIERS"
   ]
  },
  {
   "cell_type": "markdown",
   "id": "1a3092be",
   "metadata": {},
   "source": [
    "### LINEAR REGRESSION"
   ]
  },
  {
   "cell_type": "code",
   "execution_count": 29,
   "id": "1ec7518d",
   "metadata": {},
   "outputs": [
    {
     "name": "stdout",
     "output_type": "stream",
     "text": [
      "R-squared: 0.9532430364918285\n"
     ]
    }
   ],
   "source": [
    "# Create a LinearRegression object\n",
    "model_lr = LinearRegression()\n",
    "\n",
    "# Fit the model to the data\n",
    "model_lr.fit(xtrain_pca, ytrain)\n",
    "\n",
    "r_squared = model_lr.score(xtrain_pca, ytrain)\n",
    "\n",
    "print(\"R-squared:\", r_squared)\n",
    "# # Make predictions on new data\n",
    "# new_data = [[16.9,16.1,13.6,1.8,130.0]]\n",
    "# predictions = model_lr.predict(new_data)\n",
    "# predictions"
   ]
  },
  {
   "cell_type": "markdown",
   "id": "1e460fb3",
   "metadata": {},
   "source": [
    "### RANDOM FOREST REGRESSOR"
   ]
  },
  {
   "cell_type": "code",
   "execution_count": null,
   "id": "f57f8dc9",
   "metadata": {},
   "outputs": [],
   "source": [
    "# Create a Random Forest Regressor object with hyperparameters\n",
    "rf_reg = RandomForestRegressor(n_estimators=100, max_depth=10, random_state=42)\n",
    "\n",
    "# Train the model on the training data\n",
    "rf_reg.fit(xtrain_pca, ytrain)\n",
    "\n",
    "# Predict the target values for the test data\n",
    "y_pred = rf_reg.predict(xtest_pca)\n",
    "r2 = r2_score(ytest, y_pred)\n",
    "print(f\"R-squared: {r2}\")\n",
    "# Compute the mean squared error (MSE) of the model on the test data\n",
    "mse = mean_squared_error(ytest, y_pred)\n",
    "mse"
   ]
  },
  {
   "cell_type": "markdown",
   "id": "197f6067",
   "metadata": {},
   "source": [
    "## SVR REGRESSOR"
   ]
  },
  {
   "cell_type": "code",
   "execution_count": null,
   "id": "a286b48c",
   "metadata": {},
   "outputs": [],
   "source": [
    "# Create a SVM regression model\n",
    "model_sv = SVR(kernel=\"rbf\", C=1, epsilon=0.1)\n",
    "\n",
    "# Fit the model on the training data\n",
    "model_sv.fit(xtrain_pca, ytrain)\n",
    "\n",
    "# Make predictions on the testing data\n",
    "y_pred = model_sv.predict(xtest_pca)\n",
    "\n",
    "# Evaluate the model using RMSE and R-squared\n",
    "rmse = mean_squared_error(ytest, y_pred, squared=False)\n",
    "r2 = r2_score(ytest, y_pred)\n",
    "print(f\"RMSE: {rmse}\")\n",
    "print(f\"R-squared: {r2}\")"
   ]
  },
  {
   "cell_type": "markdown",
   "id": "5046089e",
   "metadata": {},
   "source": [
    "### DECISION TREE REGRESSOR"
   ]
  },
  {
   "cell_type": "code",
   "execution_count": null,
   "id": "7e51942f",
   "metadata": {},
   "outputs": [],
   "source": [
    "# create a decision tree regression model\n",
    "model_dt = DecisionTreeRegressor(random_state=42)\n",
    "\n",
    "# fit the model to the training data\n",
    "model_dt.fit(xtrain_pca, ytrain)\n",
    "\n",
    "# make predictions on the test data\n",
    "y_pred = model_dt.predict(xtest_pca)\n",
    "\n",
    "# evaluate the model\n",
    "from sklearn.metrics import mean_squared_error\n",
    "mse = mean_squared_error(ytest, y_pred)\n",
    "print(\"Mean Squared Error:\", mse)\n",
    "r2 = r2_score(ytest, y_pred)\n",
    "print(f\"R-squared: {r2}\")"
   ]
  },
  {
   "cell_type": "markdown",
   "id": "033df2ed",
   "metadata": {},
   "source": [
    "# HYPERPARAMETER TUNNING AND CROSS VALIDATION"
   ]
  },
  {
   "cell_type": "markdown",
   "id": "2d47d81f",
   "metadata": {},
   "source": [
    "### LINEAR REGRESSON"
   ]
  },
  {
   "cell_type": "code",
   "execution_count": null,
   "id": "093c66d3",
   "metadata": {},
   "outputs": [],
   "source": [
    "# Define a range of hyperparameters to search over\n",
    "param_grid = {\n",
    "    \"fit_intercept\": [True, False],\n",
    "    \"copy_X\": [True, False],\n",
    "    \"n_jobs\": [-1]\n",
    "}\n",
    "\n",
    "# Use GridSearchCV for hyperparameter tuning\n",
    "grid_search = GridSearchCV(estimator=model_lr, param_grid=param_grid, cv=5, n_jobs=-1)\n",
    "grid_search.fit(xtrain_pca, ytrain)\n",
    "\n",
    "# Print the best hyperparameters and corresponding score\n",
    "print(\"Best parameters: \", grid_search.best_params_)\n",
    "print(\"Best score: \", grid_search.best_score_)\n",
    "\n",
    "# Use cross-validation to evaluate the model with best hyperparameters\n",
    "scores = cross_val_score(grid_search.best_estimator_, x, y, cv=5)\n",
    "print(\"Cross-validation scores: \", scores)\n",
    "print(\"Average score: \", scores.mean())"
   ]
  },
  {
   "cell_type": "markdown",
   "id": "f9e3c311",
   "metadata": {},
   "source": [
    "### DECISION TREE"
   ]
  },
  {
   "cell_type": "code",
   "execution_count": null,
   "id": "255f6015",
   "metadata": {},
   "outputs": [],
   "source": [
    "# Define the parameter grid to search over\n",
    "param_grid = {\n",
    "    'max_depth': [2, 5, 10],\n",
    "    'min_samples_leaf': [1, 5, 10],\n",
    "    'min_samples_split': [2, 5, 10]\n",
    "}\n",
    "\n",
    "# Use GridSearchCV for hyperparameter tuning\n",
    "grid_search = GridSearchCV(estimator=model_dt, param_grid=param_grid, cv=5, n_jobs=-1)\n",
    "grid_search.fit(xtrain_pca, ytrain)\n",
    "\n",
    "# Print the best hyperparameters and corresponding score\n",
    "print(\"Best parameters: \", grid_search.best_params_)\n",
    "print(\"Best score: \", grid_search.best_score_)"
   ]
  },
  {
   "cell_type": "markdown",
   "id": "dd31d5d4",
   "metadata": {},
   "source": [
    "### SVM"
   ]
  },
  {
   "cell_type": "code",
   "execution_count": null,
   "id": "52fcfa90",
   "metadata": {},
   "outputs": [],
   "source": [
    "# Create an SVM regression model with default hyperparameters\n",
    "model_svr = SVR()\n",
    "\n",
    "# Define the parameter grid for hyperparameter tuning\n",
    "param_grid = {\n",
    "    'C': [0.1],\n",
    "    'gamma': [0.01],\n",
    "    'kernel': ['linear']\n",
    "}\n",
    "\n",
    "# Use GridSearchCV for hyperparameter tuning\n",
    "grid_search = GridSearchCV(estimator=model_svr, param_grid=param_grid, cv=5, n_jobs=1)\n",
    "grid_search.fit(xtrain_pca, ytrain)\n",
    "\n",
    "# Print the best hyperparameters and corresponding score\n",
    "print(\"Best parameters: \", grid_search.best_params_)\n",
    "print(\"Best score: \", grid_search.best_score_)\n",
    "\n",
    "# Evaluate the model on the test set\n",
    "y_pred = grid_search.predict(xtest_pca)\n",
    "mse = mean_squared_error(ytest, y_pred)\n",
    "print(\"Mean squared error: \", mse)"
   ]
  },
  {
   "cell_type": "code",
   "execution_count": null,
   "id": "80a5df4b",
   "metadata": {},
   "outputs": [],
   "source": []
  },
  {
   "cell_type": "code",
   "execution_count": null,
   "id": "8e298602-7c7d-418c-97cd-fd9514b18a55",
   "metadata": {},
   "outputs": [],
   "source": []
  },
  {
   "cell_type": "code",
   "execution_count": null,
   "id": "54ca2383-ad84-4063-b9b2-cde04914e854",
   "metadata": {},
   "outputs": [],
   "source": []
  },
  {
   "cell_type": "code",
   "execution_count": null,
   "id": "a16b7b5e-985b-4ee9-9c39-bc7d1c5e2c78",
   "metadata": {},
   "outputs": [],
   "source": []
  },
  {
   "cell_type": "code",
   "execution_count": null,
   "id": "e8dca714-1d28-430d-8ce6-8d3233b4b16e",
   "metadata": {},
   "outputs": [],
   "source": []
  },
  {
   "cell_type": "code",
   "execution_count": null,
   "id": "42985df6-dd3c-4d6e-a660-35fe9896a049",
   "metadata": {},
   "outputs": [],
   "source": []
  },
  {
   "cell_type": "code",
   "execution_count": null,
   "id": "d2f63ce6-181f-44cf-b912-f5171ccb6a7f",
   "metadata": {},
   "outputs": [],
   "source": []
  },
  {
   "cell_type": "code",
   "execution_count": null,
   "id": "c635c1bb-49ee-4ce4-ab5e-493e7224b505",
   "metadata": {},
   "outputs": [],
   "source": []
  },
  {
   "cell_type": "code",
   "execution_count": null,
   "id": "4001b46d-0dda-413b-a7da-068436938fa5",
   "metadata": {},
   "outputs": [],
   "source": []
  },
  {
   "cell_type": "code",
   "execution_count": null,
   "id": "54a8bcc2-8dbd-497a-b7b1-b5fbd8105fda",
   "metadata": {},
   "outputs": [],
   "source": []
  }
 ],
 "metadata": {
  "kernelspec": {
   "display_name": "Python 3 (ipykernel)",
   "language": "python",
   "name": "python3"
  },
  "language_info": {
   "codemirror_mode": {
    "name": "ipython",
    "version": 3
   },
   "file_extension": ".py",
   "mimetype": "text/x-python",
   "name": "python",
   "nbconvert_exporter": "python",
   "pygments_lexer": "ipython3",
   "version": "3.11.4"
  }
 },
 "nbformat": 4,
 "nbformat_minor": 5
}
